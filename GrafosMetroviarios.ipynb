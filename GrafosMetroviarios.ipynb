{
 "metadata": {
  "name": "",
  "signature": "sha256:e838820e78bdd15e5a2bb457f00ecdcd01a2ae33a5ac39f3b4b4637090eb84ce"
 },
 "nbformat": 3,
 "nbformat_minor": 0,
 "worksheets": [
  {
   "cells": [
    {
     "cell_type": "markdown",
     "metadata": {},
     "source": [
      "#Grafo das linhas do metro"
     ]
    },
    {
     "cell_type": "markdown",
     "metadata": {},
     "source": [
      "Vamos demonstrar aqui como contruir um grafo utlizando a biblioteca [networkx](https://networkx.github.io/). Como dados utilizamos algumas poucas estacoes da linhas do metro."
     ]
    },
    {
     "cell_type": "code",
     "collapsed": false,
     "input": [
      "import matplotlib.pyplot as plt\n",
      "import networkx as nx\n",
      "%matplotlib inline"
     ],
     "language": "python",
     "metadata": {},
     "outputs": [],
     "prompt_number": 1
    },
    {
     "cell_type": "code",
     "collapsed": false,
     "input": [
      "G=nx.Graph()"
     ],
     "language": "python",
     "metadata": {},
     "outputs": [],
     "prompt_number": 2
    },
    {
     "cell_type": "code",
     "collapsed": false,
     "input": [
      "EstacoesLinhaAzul = [('Vergueiro', 'Sao Joaquim'),\n",
      "                     ('Paraiso', 'Vergueiro'),\n",
      "                     ('Ana Rosa','Paraiso'),\n",
      "                     ('Vila Mariana','Ana Rosa'),\n",
      "                     ('Santa Cruz','Vila Mariana'),\n",
      "                     ('Praca da Arvore', 'Santa Cruz')]"
     ],
     "language": "python",
     "metadata": {},
     "outputs": [],
     "prompt_number": 3
    },
    {
     "cell_type": "code",
     "collapsed": false,
     "input": [
      "EstacoesLinhaVerde = [('Trianom', 'Consolacao'),\n",
      "                      ('Brigadeiro','Trianom'),\n",
      "                     ('Brigadeiro', 'Paraiso'),\n",
      "                     ('Chacara Klabin','Ana Rosa')]"
     ],
     "language": "python",
     "metadata": {},
     "outputs": [],
     "prompt_number": 4
    },
    {
     "cell_type": "code",
     "collapsed": false,
     "input": [
      "G.add_edges_from(EstacoesLinhaAzul)\n",
      "G.add_edges_from(EstacoesLinhaVerde)"
     ],
     "language": "python",
     "metadata": {},
     "outputs": [],
     "prompt_number": 5
    },
    {
     "cell_type": "code",
     "collapsed": false,
     "input": [
      "nx.draw_networkx(G)"
     ],
     "language": "python",
     "metadata": {},
     "outputs": [
      {
       "metadata": {},
       "output_type": "display_data",
       "png": "[encoded data removed]",
       "text": [
        "<matplotlib.figure.Figure at 0x7f0229e15e50>"
       ]
      }
     ],
     "prompt_number": 6
    },
    {
     "cell_type": "markdown",
     "metadata": {},
     "source": [
      "##M\u00e9tricas\n",
      "\n",
      "Vamos agora obter algumas m\u00e9tricas:"
     ]
    },
    {
     "cell_type": "markdown",
     "metadata": {},
     "source": [
      "###Average path length\n",
      "\n",
      "$$ a = \\sum_{s,t \\in V} \\frac{d(s,t)}{n(n-1)}$$\n",
      "\n",
      "onde V \u00e9 o conjunto de vertices em $G$ e $d(s,t)$ \u00e9 o caminho m\u00ednimo entre $s$ e $t$ e $n$ \u00e9 o n\u00famero de vertices em $G$\n"
     ]
    },
    {
     "cell_type": "code",
     "collapsed": false,
     "input": [
      "nx.average_shortest_path_length(G)"
     ],
     "language": "python",
     "metadata": {},
     "outputs": [
      {
       "metadata": {},
       "output_type": "pyout",
       "prompt_number": 7,
       "text": [
        "3.1272727272727274"
       ]
      }
     ],
     "prompt_number": 7
    },
    {
     "cell_type": "markdown",
     "metadata": {},
     "source": [
      "###Eccentricity\n",
      "\n",
      "\u00c9 a m\u00e1xima distancia de um vertice $v$ at\u00e9 todos os outros vertices."
     ]
    },
    {
     "cell_type": "code",
     "collapsed": false,
     "input": [
      "nx.eccentricity(G)"
     ],
     "language": "python",
     "metadata": {},
     "outputs": [
      {
       "metadata": {},
       "output_type": "pyout",
       "prompt_number": 8,
       "text": [
        "{'Ana Rosa': 4,\n",
        " 'Brigadeiro': 5,\n",
        " 'Chacara Klabin': 5,\n",
        " 'Consolacao': 7,\n",
        " 'Paraiso': 4,\n",
        " 'Praca da Arvore': 7,\n",
        " 'Santa Cruz': 6,\n",
        " 'Sao Joaquim': 6,\n",
        " 'Trianom': 6,\n",
        " 'Vergueiro': 5,\n",
        " 'Vila Mariana': 5}"
       ]
      }
     ],
     "prompt_number": 8
    },
    {
     "cell_type": "markdown",
     "metadata": {},
     "source": [
      "###Diametro\n",
      "\n",
      "\u00c9 a \"eccentricity\" m\u00e1xima:"
     ]
    },
    {
     "cell_type": "code",
     "collapsed": false,
     "input": [
      "nx.diameter(G)"
     ],
     "language": "python",
     "metadata": {},
     "outputs": [
      {
       "metadata": {},
       "output_type": "pyout",
       "prompt_number": 9,
       "text": [
        "7"
       ]
      }
     ],
     "prompt_number": 9
    },
    {
     "cell_type": "markdown",
     "metadata": {},
     "source": [
      "###Raio\n",
      "\n",
      "\u00c9 a \"eccentricity\" m\u00ednima:"
     ]
    },
    {
     "cell_type": "code",
     "collapsed": false,
     "input": [
      "nx.radius(G)"
     ],
     "language": "python",
     "metadata": {},
     "outputs": [
      {
       "metadata": {},
       "output_type": "pyout",
       "prompt_number": 10,
       "text": [
        "4"
       ]
      }
     ],
     "prompt_number": 10
    },
    {
     "cell_type": "markdown",
     "metadata": {},
     "source": [
      "###Grau m\u00e9dio de Conectividade\n",
      "\n",
      "Hmm o que ser\u00e1 isso .... A documenta\u00e7\u00e3o esta [aqui](http://networkx.lanl.gov/reference/generated/networkx.algorithms.assortativity.average_degree_connectivity.html#networkx.algorithms.assortativity.average_degree_connectivity)"
     ]
    },
    {
     "cell_type": "code",
     "collapsed": false,
     "input": [
      "nx.average_degree_connectivity(G)"
     ],
     "language": "python",
     "metadata": {},
     "outputs": [
      {
       "metadata": {},
       "output_type": "pyout",
       "prompt_number": 11,
       "text": [
        "{1: 2.25, 2: 2.0, 3: 2.1666666666666665}"
       ]
      }
     ],
     "prompt_number": 11
    },
    {
     "cell_type": "markdown",
     "metadata": {},
     "source": [
      "##Adiciconando mais uma aresta\n",
      "\n",
      "Vamos adicionar mais uma aresta e ver como mudam as m\u00e9tricas"
     ]
    },
    {
     "cell_type": "code",
     "collapsed": false,
     "input": [
      "G.add_edge('Ana Rosa','Consolacao')"
     ],
     "language": "python",
     "metadata": {},
     "outputs": [],
     "prompt_number": 12
    },
    {
     "cell_type": "code",
     "collapsed": false,
     "input": [
      "nx.draw_networkx(G)"
     ],
     "language": "python",
     "metadata": {},
     "outputs": [
      {
       "metadata": {},
       "output_type": "display_data",
       "png": "[encoded data removed]",
       "text": [
        "<matplotlib.figure.Figure at 0x7f0229d4da50>"
       ]
      }
     ],
     "prompt_number": 13
    },
    {
     "cell_type": "code",
     "collapsed": false,
     "input": [
      "nx.average_shortest_path_length(G)"
     ],
     "language": "python",
     "metadata": {},
     "outputs": [
      {
       "metadata": {},
       "output_type": "pyout",
       "prompt_number": 14,
       "text": [
        "2.709090909090909"
       ]
      }
     ],
     "prompt_number": 14
    },
    {
     "cell_type": "code",
     "collapsed": false,
     "input": [
      "nx.diameter(G)\n"
     ],
     "language": "python",
     "metadata": {},
     "outputs": [
      {
       "metadata": {},
       "output_type": "pyout",
       "prompt_number": 15,
       "text": [
        "6"
       ]
      }
     ],
     "prompt_number": 15
    },
    {
     "cell_type": "code",
     "collapsed": false,
     "input": [
      "nx.radius(G)"
     ],
     "language": "python",
     "metadata": {},
     "outputs": [
      {
       "metadata": {},
       "output_type": "pyout",
       "prompt_number": 16,
       "text": [
        "3"
       ]
      }
     ],
     "prompt_number": 16
    },
    {
     "cell_type": "code",
     "collapsed": false,
     "input": [
      "nx.average_degree_connectivity(G)"
     ],
     "language": "python",
     "metadata": {},
     "outputs": [
      {
       "metadata": {},
       "output_type": "pyout",
       "prompt_number": 17,
       "text": [
        "{1: 2.6666666666666665, 2: 2.3333333333333335, 3: 2.6666666666666665, 4: 2.0}"
       ]
      }
     ],
     "prompt_number": 17
    }
   ],
   "metadata": {}
  }
 ]
}