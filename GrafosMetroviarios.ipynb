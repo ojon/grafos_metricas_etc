{
 "metadata": {
  "name": "",
  "signature": "sha256:9c12e454c37129401a4fc3aba5c685db729b66c48fd67be11ae16c3575d1d8fd"
 },
 "nbformat": 3,
 "nbformat_minor": 0,
 "worksheets": [
  {
   "cells": [
    {
     "cell_type": "markdown",
     "metadata": {},
     "source": [
      "#Grafo das linhas do metro"
     ]
    },
    {
     "cell_type": "markdown",
     "metadata": {},
     "source": [
      "Vamos demonstrar aqui como contruir um grafo utlizando a biblioteca [networkx](https://networkx.github.io/). Como dados utilizamos algunas poucas estacoes da linhas do metro."
     ]
    },
    {
     "cell_type": "code",
     "collapsed": false,
     "input": [
      "import matplotlib.pyplot as plt\n",
      "import networkx as nx\n",
      "%matplotlib inline"
     ],
     "language": "python",
     "metadata": {},
     "outputs": [],
     "prompt_number": 1
    },
    {
     "cell_type": "code",
     "collapsed": false,
     "input": [
      "G=nx.Graph()"
     ],
     "language": "python",
     "metadata": {},
     "outputs": [],
     "prompt_number": 2
    },
    {
     "cell_type": "code",
     "collapsed": false,
     "input": [
      "EstacoesLinhaAzul = [('Vergueiro', 'Sao Joaquim'),\n",
      "                     ('Paraiso', 'Vergueiro'),\n",
      "                     ('Ana Rosa','Paraiso'),\n",
      "                     ('Vila Mariana','Ana Rosa'),\n",
      "                     ('Santa Cruz','Vila Mariana'),\n",
      "                     ('Praca da Arvore', 'Santa Cruz')]"
     ],
     "language": "python",
     "metadata": {},
     "outputs": [],
     "prompt_number": 3
    },
    {
     "cell_type": "code",
     "collapsed": false,
     "input": [
      "EstacoesLinhaVerde = [('Trianom', 'Consolacao'),\n",
      "                      ('Brigadeiro','Trianom'),\n",
      "                     ('Brigadeiro', 'Paraiso'),\n",
      "                     ('Chacara Klabin','Ana Rosa')]"
     ],
     "language": "python",
     "metadata": {},
     "outputs": [],
     "prompt_number": 4
    },
    {
     "cell_type": "code",
     "collapsed": false,
     "input": [
      "G.add_edges_from(EstacoesLinhaAzul)\n",
      "G.add_edges_from(EstacoesLinhaVerde)"
     ],
     "language": "python",
     "metadata": {},
     "outputs": [],
     "prompt_number": 5
    },
    {
     "cell_type": "code",
     "collapsed": false,
     "input": [
      "nx.draw_networkx(G)"
     ],
     "language": "python",
     "metadata": {},
     "outputs": [
      {
       "metadata": {},
       "output_type": "display_data",
       "png": "[encoded data removed]",
       "text": [
        "<matplotlib.figure.Figure at 0x7f0229e15e50>"
       ]
      }
     ],
     "prompt_number": 6
    },
    {
     "cell_type": "markdown",
     "metadata": {},
     "source": [
      "##M\u00e9tricas\n",
      "\n",
      "Vamos agora obter algumas m\u00e9tricas:"
     ]
    },
    {
     "cell_type": "markdown",
     "metadata": {},
     "source": [
      "###Average path length\n",
      "\n",
      "$$ a = \\sum_{s,t \\in V} \\frac{d(s,t)}{n(n-1)}$$\n",
      "\n",
      "onde V \u00e9 o conjunto de vertices em $G$ e $d(s,t)$ \u00e9 o caminho m\u00ednimo entre $s$ e $t$ e $n$ \u00e9 o n\u00famero de vertices em $G$\n"
     ]
    },
    {
     "cell_type": "code",
     "collapsed": false,
     "input": [
      "nx.average_shortest_path_length(G)"
     ],
     "language": "python",
     "metadata": {},
     "outputs": [
      {
       "ename": "NetworkXPointlessConcept",
       "evalue": "Connectivity is undefined for the null graph.",
       "output_type": "pyerr",
       "traceback": [
        "\u001b[1;31m---------------------------------------------------------------------------\u001b[0m\n\u001b[1;31mNetworkXPointlessConcept\u001b[0m                  Traceback (most recent call last)",
        "\u001b[1;32m<ipython-input-6-5ad4f94667e2>\u001b[0m in \u001b[0;36m<module>\u001b[1;34m()\u001b[0m\n\u001b[1;32m----> 1\u001b[1;33m \u001b[0mnx\u001b[0m\u001b[1;33m.\u001b[0m\u001b[0maverage_shortest_path_length\u001b[0m\u001b[1;33m(\u001b[0m\u001b[0mG\u001b[0m\u001b[1;33m)\u001b[0m\u001b[1;33m\u001b[0m\u001b[0m\n\u001b[0m",
        "\u001b[1;32m/home/joao/anaconda/lib/python2.7/site-packages/networkx/algorithms/shortest_paths/generic.pyc\u001b[0m in \u001b[0;36maverage_shortest_path_length\u001b[1;34m(G, weight)\u001b[0m\n\u001b[0;32m    314\u001b[0m             \u001b[1;32mraise\u001b[0m \u001b[0mnx\u001b[0m\u001b[1;33m.\u001b[0m\u001b[0mNetworkXError\u001b[0m\u001b[1;33m(\u001b[0m\u001b[1;34m\"Graph is not connected.\"\u001b[0m\u001b[1;33m)\u001b[0m\u001b[1;33m\u001b[0m\u001b[0m\n\u001b[0;32m    315\u001b[0m     \u001b[1;32melse\u001b[0m\u001b[1;33m:\u001b[0m\u001b[1;33m\u001b[0m\u001b[0m\n\u001b[1;32m--> 316\u001b[1;33m         \u001b[1;32mif\u001b[0m \u001b[1;32mnot\u001b[0m \u001b[0mnx\u001b[0m\u001b[1;33m.\u001b[0m\u001b[0mis_connected\u001b[0m\u001b[1;33m(\u001b[0m\u001b[0mG\u001b[0m\u001b[1;33m)\u001b[0m\u001b[1;33m:\u001b[0m\u001b[1;33m\u001b[0m\u001b[0m\n\u001b[0m\u001b[0;32m    317\u001b[0m             \u001b[1;32mraise\u001b[0m \u001b[0mnx\u001b[0m\u001b[1;33m.\u001b[0m\u001b[0mNetworkXError\u001b[0m\u001b[1;33m(\u001b[0m\u001b[1;34m\"Graph is not connected.\"\u001b[0m\u001b[1;33m)\u001b[0m\u001b[1;33m\u001b[0m\u001b[0m\n\u001b[0;32m    318\u001b[0m     \u001b[0mavg\u001b[0m\u001b[1;33m=\u001b[0m\u001b[1;36m0.0\u001b[0m\u001b[1;33m\u001b[0m\u001b[0m\n",
        "\u001b[1;32m/home/joao/anaconda/lib/python2.7/site-packages/networkx/algorithms/components/connected.pyc\u001b[0m in \u001b[0;36mis_connected\u001b[1;34m(G)\u001b[0m\n\u001b[0;32m    116\u001b[0m     \u001b[1;32mif\u001b[0m \u001b[0mlen\u001b[0m\u001b[1;33m(\u001b[0m\u001b[0mG\u001b[0m\u001b[1;33m)\u001b[0m\u001b[1;33m==\u001b[0m\u001b[1;36m0\u001b[0m\u001b[1;33m:\u001b[0m\u001b[1;33m\u001b[0m\u001b[0m\n\u001b[0;32m    117\u001b[0m         raise nx.NetworkXPointlessConcept(\n\u001b[1;32m--> 118\u001b[1;33m             \"\"\"Connectivity is undefined for the null graph.\"\"\")\n\u001b[0m\u001b[0;32m    119\u001b[0m \u001b[1;33m\u001b[0m\u001b[0m\n\u001b[0;32m    120\u001b[0m     return len(nx.single_source_shortest_path_length(G,\n",
        "\u001b[1;31mNetworkXPointlessConcept\u001b[0m: Connectivity is undefined for the null graph."
       ]
      }
     ],
     "prompt_number": 6
    },
    {
     "cell_type": "markdown",
     "metadata": {},
     "source": [
      "###Eccentricity\n",
      "\n",
      "\u00c9 a m\u00e1xima distancia de um vertice $v$ at\u00e9 todos os outros vertices."
     ]
    },
    {
     "cell_type": "code",
     "collapsed": false,
     "input": [
      "nx.eccentricity(G)"
     ],
     "language": "python",
     "metadata": {},
     "outputs": [
      {
       "metadata": {},
       "output_type": "pyout",
       "prompt_number": 11,
       "text": [
        "{'Ana Rosa': 4,\n",
        " 'Brigadeiro': 5,\n",
        " 'Chacara Klabin': 5,\n",
        " 'Consolacao': 7,\n",
        " 'Paraiso': 4,\n",
        " 'Praca da Arvore': 7,\n",
        " 'Santa Cruz': 6,\n",
        " 'Sao Joaquim': 6,\n",
        " 'Trianom': 6,\n",
        " 'Vergueiro': 5,\n",
        " 'Vila Mariana': 5}"
       ]
      }
     ],
     "prompt_number": 11
    },
    {
     "cell_type": "markdown",
     "metadata": {},
     "source": [
      "###Diametro\n",
      "\n",
      "\u00c9 a \"eccentricity\" m\u00e1xima:"
     ]
    },
    {
     "cell_type": "code",
     "collapsed": false,
     "input": [
      "nx.diameter(G)"
     ],
     "language": "python",
     "metadata": {},
     "outputs": [
      {
       "metadata": {},
       "output_type": "pyout",
       "prompt_number": 12,
       "text": [
        "7"
       ]
      }
     ],
     "prompt_number": 12
    },
    {
     "cell_type": "markdown",
     "metadata": {},
     "source": [
      "###Raio\n",
      "\n",
      "\u00c9 a \"eccentricity\" m\u00ednima:"
     ]
    },
    {
     "cell_type": "code",
     "collapsed": false,
     "input": [
      "nx.radius(G)"
     ],
     "language": "python",
     "metadata": {},
     "outputs": [
      {
       "metadata": {},
       "output_type": "pyout",
       "prompt_number": 14,
       "text": [
        "4"
       ]
      }
     ],
     "prompt_number": 14
    },
    {
     "cell_type": "markdown",
     "metadata": {},
     "source": [
      "###Grau m\u00e9dio de Conectividade\n",
      "\n",
      "Hmm o que ser\u00e1 isso .... A documenta\u00e7\u00e3o esta [aqui](http://networkx.lanl.gov/reference/generated/networkx.algorithms.assortativity.average_degree_connectivity.html#networkx.algorithms.assortativity.average_degree_connectivity)"
     ]
    },
    {
     "cell_type": "code",
     "collapsed": false,
     "input": [
      "nx.average_degree_connectivity(G)"
     ],
     "language": "python",
     "metadata": {},
     "outputs": [
      {
       "metadata": {},
       "output_type": "pyout",
       "prompt_number": 15,
       "text": [
        "{1: 2.25, 2: 2.0, 3: 2.1666666666666665}"
       ]
      }
     ],
     "prompt_number": 15
    },
    {
     "cell_type": "markdown",
     "metadata": {},
     "source": [
      "##Adiciconando mais uma aresta\n",
      "\n",
      "Vamos adicionar mais uma aresta e ver como mudam as m\u00e9tricas"
     ]
    },
    {
     "cell_type": "code",
     "collapsed": false,
     "input": [
      "G.add_edge('Ana Rosa','Consolacao')"
     ],
     "language": "python",
     "metadata": {},
     "outputs": [],
     "prompt_number": 18
    },
    {
     "cell_type": "code",
     "collapsed": false,
     "input": [
      "nx.draw_networkx(G)"
     ],
     "language": "python",
     "metadata": {},
     "outputs": [
      {
       "metadata": {},
       "output_type": "display_data",
       "png": "[encoded data removed]",
       "text": [
        "<matplotlib.figure.Figure at 0x7f5270cae050>"
       ]
      }
     ],
     "prompt_number": 19
    },
    {
     "cell_type": "code",
     "collapsed": false,
     "input": [
      "nx.average_shortest_path_length(G)"
     ],
     "language": "python",
     "metadata": {},
     "outputs": [
      {
       "metadata": {},
       "output_type": "pyout",
       "prompt_number": 20,
       "text": [
        "2.709090909090909"
       ]
      }
     ],
     "prompt_number": 20
    },
    {
     "cell_type": "code",
     "collapsed": false,
     "input": [
      "nx.diameter(G)\n"
     ],
     "language": "python",
     "metadata": {},
     "outputs": [
      {
       "metadata": {},
       "output_type": "pyout",
       "prompt_number": 21,
       "text": [
        "6"
       ]
      }
     ],
     "prompt_number": 21
    },
    {
     "cell_type": "code",
     "collapsed": false,
     "input": [
      "nx.radius(G)"
     ],
     "language": "python",
     "metadata": {},
     "outputs": [
      {
       "metadata": {},
       "output_type": "pyout",
       "prompt_number": 22,
       "text": [
        "3"
       ]
      }
     ],
     "prompt_number": 22
    },
    {
     "cell_type": "code",
     "collapsed": false,
     "input": [
      "nx.average_degree_connectivity(G)"
     ],
     "language": "python",
     "metadata": {},
     "outputs": [
      {
       "metadata": {},
       "output_type": "pyout",
       "prompt_number": 23,
       "text": [
        "{1: 2.6666666666666665, 2: 2.3333333333333335, 3: 2.6666666666666665, 4: 2.0}"
       ]
      }
     ],
     "prompt_number": 23
    },
    {
     "cell_type": "code",
     "collapsed": false,
     "input": [],
     "language": "python",
     "metadata": {},
     "outputs": []
    }
   ],
   "metadata": {}
  }
 ]
}